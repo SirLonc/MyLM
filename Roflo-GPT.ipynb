{
 "cells": [
  {
   "cell_type": "code",
   "execution_count": 1,
   "id": "a77a6f57",
   "metadata": {},
   "outputs": [
    {
     "name": "stderr",
     "output_type": "stream",
     "text": [
      "c:\\users\\bigre\\appdata\\local\\programs\\python\\python39\\lib\\site-packages\\tqdm\\auto.py:22: TqdmWarning: IProgress not found. Please update jupyter and ipywidgets. See https://ipywidgets.readthedocs.io/en/stable/user_install.html\n",
      "  from .autonotebook import tqdm as notebook_tqdm\n"
     ]
    }
   ],
   "source": [
    "#!pip install datasets\n",
    "from datasets import load_dataset\n",
    "import pandas as pd\n",
    "import numpy as np"
   ]
  },
  {
   "cell_type": "code",
   "execution_count": 2,
   "id": "3064dd92",
   "metadata": {},
   "outputs": [],
   "source": [
    "dataset = load_dataset(\"tiny_shakespeare\")"
   ]
  },
  {
   "cell_type": "code",
   "execution_count": 3,
   "id": "69866429",
   "metadata": {},
   "outputs": [],
   "source": [
    "train = ''.join(dataset['train']['text'])\n",
    "val = ''.join(dataset['validation']['text'])\n",
    "test = ''.join(dataset['test']['text'])"
   ]
  },
  {
   "cell_type": "code",
   "execution_count": 4,
   "id": "756562e1",
   "metadata": {},
   "outputs": [
    {
     "name": "stdout",
     "output_type": "stream",
     "text": [
      "len of train/val/test - 1003854 / 55770 / 55770\n"
     ]
    }
   ],
   "source": [
    "print(f\"len of train/val/test - {len(train)} / {len(val)} / {len(test)}\")"
   ]
  },
  {
   "cell_type": "code",
   "execution_count": 5,
   "id": "80ec5958",
   "metadata": {},
   "outputs": [
    {
     "name": "stdout",
     "output_type": "stream",
     "text": [
      "\n",
      " !$&',-.3:;?ABCDEFGHIJKLMNOPQRSTUVWXYZabcdefghijklmnopqrstuvwxyz\n",
      "65\n"
     ]
    }
   ],
   "source": [
    "chars = sorted(list(set(''.join(train + val + test))))\n",
    "vocab_size = len(chars)\n",
    "print(''.join(chars))\n",
    "print(vocab_size)"
   ]
  },
  {
   "cell_type": "code",
   "execution_count": 6,
   "id": "6171de8a",
   "metadata": {},
   "outputs": [
    {
     "name": "stdout",
     "output_type": "stream",
     "text": [
      "[51, 51, 51, 6, 1, 47, 41, 43, 1, 41, 56, 43, 39, 51, 1, 57, 53, 1, 45, 53, 53, 42]\n",
      "mmm, ice cream so good\n"
     ]
    }
   ],
   "source": [
    "# mapping for chars to int \n",
    "stoi = {ch:i for i,ch in enumerate(chars)}\n",
    "itos = {i:ch for i,ch in enumerate(chars)}\n",
    "encode = lambda s: [stoi[c] for c in s]\n",
    "decode = lambda l: ''.join([itos[i] for i in l])\n",
    "\n",
    "print(encode('mmm, ice cream so good'))\n",
    "print(decode(encode('mmm, ice cream so good')))"
   ]
  },
  {
   "cell_type": "code",
   "execution_count": 7,
   "id": "f5d1c630",
   "metadata": {},
   "outputs": [
    {
     "name": "stdout",
     "output_type": "stream",
     "text": [
      "torch.Size([1003854])\n"
     ]
    }
   ],
   "source": [
    "import torch\n",
    "train_tensor = torch.tensor(encode(train), dtype=torch.long)\n",
    "print(train_tensor.shape)"
   ]
  },
  {
   "cell_type": "code",
   "execution_count": 8,
   "id": "f3217411",
   "metadata": {},
   "outputs": [],
   "source": [
    "val_tensor = torch.tensor(encode(val), dtype=torch.long)\n",
    "test_tensor = torch.tensor(encode(test), dtype=torch.long)"
   ]
  },
  {
   "cell_type": "code",
   "execution_count": 9,
   "id": "efc0de75",
   "metadata": {},
   "outputs": [],
   "source": [
    "block_size = 8"
   ]
  },
  {
   "cell_type": "code",
   "execution_count": 10,
   "id": "f26c3e0a",
   "metadata": {},
   "outputs": [
    {
     "name": "stdout",
     "output_type": "stream",
     "text": [
      "when input is tensor([18]) the target is -> 47\n",
      "when input is tensor([18, 47]) the target is -> 56\n",
      "when input is tensor([18, 47, 56]) the target is -> 57\n",
      "when input is tensor([18, 47, 56, 57]) the target is -> 58\n",
      "when input is tensor([18, 47, 56, 57, 58]) the target is -> 1\n",
      "when input is tensor([18, 47, 56, 57, 58,  1]) the target is -> 15\n",
      "when input is tensor([18, 47, 56, 57, 58,  1, 15]) the target is -> 47\n",
      "when input is tensor([18, 47, 56, 57, 58,  1, 15, 47]) the target is -> 58\n"
     ]
    }
   ],
   "source": [
    "x = train_tensor[:block_size]\n",
    "y = train_tensor[1:block_size+1]\n",
    "\n",
    "for t in range(block_size):\n",
    "    context = x[:t+1]\n",
    "    target = y[t]\n",
    "    print(f\"when input is {context} the target is -> {target}\")"
   ]
  },
  {
   "cell_type": "code",
   "execution_count": 11,
   "id": "2efd356a",
   "metadata": {},
   "outputs": [
    {
     "name": "stdout",
     "output_type": "stream",
     "text": [
      "inputs:\n",
      "torch.Size([4, 8])\n",
      "tensor([[19,  1, 30, 21, 15, 20, 13, 30],\n",
      "        [49,  6,  1, 61, 46, 63,  1, 46],\n",
      "        [16, 21, 27, 10,  0, 33, 52, 46],\n",
      "        [53, 52, 42,  1, 25, 59, 56, 42]])\n",
      "targets\n",
      "torch.Size([4, 8])\n",
      "tensor([[ 1, 30, 21, 15, 20, 13, 30, 16],\n",
      "        [ 6,  1, 61, 46, 63,  1, 46, 39],\n",
      "        [21, 27, 10,  0, 33, 52, 46, 39],\n",
      "        [52, 42,  1, 25, 59, 56, 42, 43]])\n",
      "______\n",
      "when the input is [[19, 1, 30, 21, 15, 20, 13, 30]], the target -> 1\n",
      "when the input is [[19, 1, 30, 21, 15, 20, 13, 30], [49, 6, 1, 61, 46, 63, 1, 46]], the target -> 30\n",
      "when the input is [[19, 1, 30, 21, 15, 20, 13, 30], [49, 6, 1, 61, 46, 63, 1, 46], [16, 21, 27, 10, 0, 33, 52, 46]], the target -> 21\n",
      "when the input is [[19, 1, 30, 21, 15, 20, 13, 30], [49, 6, 1, 61, 46, 63, 1, 46], [16, 21, 27, 10, 0, 33, 52, 46], [53, 52, 42, 1, 25, 59, 56, 42]], the target -> 15\n",
      "when the input is [[19, 1, 30, 21, 15, 20, 13, 30], [49, 6, 1, 61, 46, 63, 1, 46], [16, 21, 27, 10, 0, 33, 52, 46], [53, 52, 42, 1, 25, 59, 56, 42]], the target -> 20\n",
      "when the input is [[19, 1, 30, 21, 15, 20, 13, 30], [49, 6, 1, 61, 46, 63, 1, 46], [16, 21, 27, 10, 0, 33, 52, 46], [53, 52, 42, 1, 25, 59, 56, 42]], the target -> 13\n",
      "when the input is [[19, 1, 30, 21, 15, 20, 13, 30], [49, 6, 1, 61, 46, 63, 1, 46], [16, 21, 27, 10, 0, 33, 52, 46], [53, 52, 42, 1, 25, 59, 56, 42]], the target -> 30\n",
      "when the input is [[19, 1, 30, 21, 15, 20, 13, 30], [49, 6, 1, 61, 46, 63, 1, 46], [16, 21, 27, 10, 0, 33, 52, 46], [53, 52, 42, 1, 25, 59, 56, 42]], the target -> 16\n",
      "when the input is [], the target -> 6\n",
      "when the input is [[49, 6, 1, 61, 46, 63, 1, 46]], the target -> 1\n",
      "when the input is [[49, 6, 1, 61, 46, 63, 1, 46], [16, 21, 27, 10, 0, 33, 52, 46]], the target -> 61\n",
      "when the input is [[49, 6, 1, 61, 46, 63, 1, 46], [16, 21, 27, 10, 0, 33, 52, 46], [53, 52, 42, 1, 25, 59, 56, 42]], the target -> 46\n",
      "when the input is [[49, 6, 1, 61, 46, 63, 1, 46], [16, 21, 27, 10, 0, 33, 52, 46], [53, 52, 42, 1, 25, 59, 56, 42]], the target -> 63\n",
      "when the input is [[49, 6, 1, 61, 46, 63, 1, 46], [16, 21, 27, 10, 0, 33, 52, 46], [53, 52, 42, 1, 25, 59, 56, 42]], the target -> 1\n",
      "when the input is [[49, 6, 1, 61, 46, 63, 1, 46], [16, 21, 27, 10, 0, 33, 52, 46], [53, 52, 42, 1, 25, 59, 56, 42]], the target -> 46\n",
      "when the input is [[49, 6, 1, 61, 46, 63, 1, 46], [16, 21, 27, 10, 0, 33, 52, 46], [53, 52, 42, 1, 25, 59, 56, 42]], the target -> 39\n",
      "when the input is [], the target -> 21\n",
      "when the input is [], the target -> 27\n",
      "when the input is [[16, 21, 27, 10, 0, 33, 52, 46]], the target -> 10\n",
      "when the input is [[16, 21, 27, 10, 0, 33, 52, 46], [53, 52, 42, 1, 25, 59, 56, 42]], the target -> 0\n",
      "when the input is [[16, 21, 27, 10, 0, 33, 52, 46], [53, 52, 42, 1, 25, 59, 56, 42]], the target -> 33\n",
      "when the input is [[16, 21, 27, 10, 0, 33, 52, 46], [53, 52, 42, 1, 25, 59, 56, 42]], the target -> 52\n",
      "when the input is [[16, 21, 27, 10, 0, 33, 52, 46], [53, 52, 42, 1, 25, 59, 56, 42]], the target -> 46\n",
      "when the input is [[16, 21, 27, 10, 0, 33, 52, 46], [53, 52, 42, 1, 25, 59, 56, 42]], the target -> 39\n",
      "when the input is [], the target -> 52\n",
      "when the input is [], the target -> 42\n",
      "when the input is [], the target -> 1\n",
      "when the input is [[53, 52, 42, 1, 25, 59, 56, 42]], the target -> 25\n",
      "when the input is [[53, 52, 42, 1, 25, 59, 56, 42]], the target -> 59\n",
      "when the input is [[53, 52, 42, 1, 25, 59, 56, 42]], the target -> 56\n",
      "when the input is [[53, 52, 42, 1, 25, 59, 56, 42]], the target -> 42\n",
      "when the input is [[53, 52, 42, 1, 25, 59, 56, 42]], the target -> 43\n"
     ]
    }
   ],
   "source": [
    "torch.manual_seed(228)\n",
    "batch_size = 4\n",
    "\n",
    "def get_batch(split):\n",
    "    data = train_tensor if split == 'train' else val_tensor\n",
    "    ix = torch.randint(len(data) - block_size, (batch_size,))\n",
    "    x = torch.stack([data[i:i+block_size] for i in ix])\n",
    "    y = torch.stack([data[i+1:i+block_size+1] for i in ix])\n",
    "    return x, y\n",
    "\n",
    "xb, yb = get_batch('train')\n",
    "print('inputs:')\n",
    "print(xb.shape)\n",
    "print(xb)\n",
    "print('targets')\n",
    "print(yb.shape)\n",
    "print(yb)\n",
    "\n",
    "print('______')\n",
    "\n",
    "for b in range(batch_size):\n",
    "    for t in range(block_size):\n",
    "        context = xb[b:t+1]\n",
    "        target = yb[b,t]\n",
    "        \n",
    "        print(f'when the input is {context.tolist()}, the target -> {target}')"
   ]
  },
  {
   "cell_type": "code",
   "execution_count": 12,
   "id": "93306701",
   "metadata": {},
   "outputs": [
    {
     "name": "stdout",
     "output_type": "stream",
     "text": [
      "torch.Size([32, 65])\n",
      "tensor(4.8414, grad_fn=<NllLossBackward0>)\n",
      "\n",
      "s?NGzGlfLLKFKVn\n",
      "b.CFPMAPiMA'fkHTbScTr-EmsUxjU-pOulxfko;nzB-TiD?fCJFloGkF$sqcdnJFIf-PG,Btnq-E..P;gWV?\n"
     ]
    }
   ],
   "source": [
    "import torch\n",
    "import torch.nn as nn\n",
    "from torch.nn import functional as F\n",
    "torch.manual_seed(228)\n",
    "\n",
    "class BigramLanguageModel(nn.Module):\n",
    "    \n",
    "    def __init__(self, vocab_size):\n",
    "        super().__init__()\n",
    "        self.token_embedding_table = nn.Embedding(vocab_size, vocab_size)\n",
    "        \n",
    "    def forward(self, idx, targets=None):\n",
    "        \n",
    "        logits = self.token_embedding_table(idx)\n",
    "        \n",
    "        if targets is None:\n",
    "            loss = None\n",
    "        else:\n",
    "            \n",
    "        \n",
    "            B,T,C = logits.shape\n",
    "            logits = logits.view(B*T, C)\n",
    "            targets = targets.view(B*T)\n",
    "\n",
    "            loss = F.cross_entropy(logits, targets)\n",
    "\n",
    "        return logits, loss\n",
    "    \n",
    "    def generate(self, idx, max_new_tokens):\n",
    "        # idx is (B,C) array of indices in the current context\n",
    "        for _ in range(max_new_tokens):\n",
    "            #get the preds\n",
    "            logits, loss = self(idx)\n",
    "            #focus only on the last step\n",
    "            logits = logits[:,-1,:] # becomes (B,C)\n",
    "            #apply softmax to get probs\n",
    "            probs = F.softmax(logits, dim=1) # (B, C)\n",
    "            # sample from distribution\n",
    "            idx_next = torch.multinomial(probs, num_samples=1) #(B, 1)\n",
    "            #append sampled index to the running sequence \n",
    "            idx = torch.cat((idx,idx_next), dim=1) #(B, T+1)\n",
    "        return idx\n",
    "            \n",
    "    \n",
    "m = BigramLanguageModel(vocab_size)\n",
    "\n",
    "logits, loss = m(xb, yb)\n",
    "\n",
    "print(logits.shape)\n",
    "print(loss)\n",
    "\n",
    "idx = torch.zeros((1,1), dtype=torch.long)\n",
    "print(decode(m.generate(idx, max_new_tokens=100)[0].tolist()))"
   ]
  },
  {
   "cell_type": "code",
   "execution_count": 13,
   "id": "d24a696e",
   "metadata": {},
   "outputs": [],
   "source": [
    "optimizer = torch.optim.AdamW(m.parameters(), lr=1e-3)"
   ]
  },
  {
   "cell_type": "code",
   "execution_count": 14,
   "id": "9c431f43",
   "metadata": {},
   "outputs": [
    {
     "name": "stdout",
     "output_type": "stream",
     "text": [
      "2.390397310256958\n"
     ]
    }
   ],
   "source": [
    "batch_size = 32\n",
    "\n",
    "for steps in range(10000):\n",
    "    \n",
    "    #sample a batch of data\n",
    "    xb, yb = get_batch('train')\n",
    "    \n",
    "    #eval the loss\n",
    "    logits, loss = m(xb, yb)\n",
    "    optimizer.zero_grad(set_to_none=True)\n",
    "    loss.backward()\n",
    "    optimizer.step()\n",
    "    \n",
    "print(loss.item())"
   ]
  },
  {
   "cell_type": "code",
   "execution_count": 15,
   "id": "113b06ac",
   "metadata": {},
   "outputs": [
    {
     "name": "stdout",
     "output_type": "stream",
     "text": [
      "\n",
      "T:\n",
      "iced msuge lllonay, mousest lthak.\n",
      "IR:\n",
      "\n",
      "LBO:\n",
      "\n",
      "T:\n",
      "My:\n",
      "STEl tind.\n",
      "Fz'd horistlleyowiof hay and youn tugouthend:\n",
      "BETheveasut for tarn lus myordie barerthea, y sto IN blot yerike\n",
      "sh ade\n",
      "JEN:\n",
      "Fonilavet hatesl, tr fy hy, dof Ils;\n",
      "Domfor mby owby\n",
      "Yos wime d th,\n",
      "\n",
      "We, toabean d\n",
      "HARigs.\n",
      "\n",
      "MENothatin w?\n",
      "Mourd:\n",
      "Th alamby u t mes hesthero oure.\n",
      "A: yveratho;\n",
      "\n",
      "Wheldo pou EXESTENIfothours wapayouland t doune t \n"
     ]
    }
   ],
   "source": [
    "print(decode(m.generate(idx, max_new_tokens=400)[0].tolist()))"
   ]
  },
  {
   "cell_type": "code",
   "execution_count": 16,
   "id": "e56cb2e5",
   "metadata": {},
   "outputs": [
    {
     "ename": "RuntimeError",
     "evalue": "mat1 and mat2 shapes cannot be multiplied (1x8 and 32x16)",
     "output_type": "error",
     "traceback": [
      "\u001b[1;31m---------------------------------------------------------------------------\u001b[0m",
      "\u001b[1;31mRuntimeError\u001b[0m                              Traceback (most recent call last)",
      "Input \u001b[1;32mIn [16]\u001b[0m, in \u001b[0;36m<cell line: 11>\u001b[1;34m()\u001b[0m\n\u001b[0;32m      8\u001b[0m query \u001b[38;5;241m=\u001b[39m nn\u001b[38;5;241m.\u001b[39mLinear(C, head_size, bias\u001b[38;5;241m=\u001b[39m\u001b[38;5;28;01mFalse\u001b[39;00m)\n\u001b[0;32m      9\u001b[0m value \u001b[38;5;241m=\u001b[39m nn\u001b[38;5;241m.\u001b[39mLinear(C, head_size, bias\u001b[38;5;241m=\u001b[39m\u001b[38;5;28;01mTrue\u001b[39;00m)\n\u001b[1;32m---> 11\u001b[0m k \u001b[38;5;241m=\u001b[39m \u001b[43mkey\u001b[49m\u001b[43m(\u001b[49m\u001b[43mx\u001b[49m\u001b[43m)\u001b[49m   \u001b[38;5;66;03m#(B, T, 16)\u001b[39;00m\n\u001b[0;32m     12\u001b[0m q \u001b[38;5;241m=\u001b[39m query(x) \u001b[38;5;66;03m#(B, T, 16)\u001b[39;00m\n\u001b[0;32m     13\u001b[0m wei \u001b[38;5;241m=\u001b[39m q \u001b[38;5;241m@\u001b[39m k\u001b[38;5;241m.\u001b[39mtranspose(\u001b[38;5;241m-\u001b[39m\u001b[38;5;241m2\u001b[39m,\u001b[38;5;241m-\u001b[39m\u001b[38;5;241m1\u001b[39m)  \u001b[38;5;66;03m# (B, T ,16) @ (B, 16, T) ----> (B, T , T)\u001b[39;00m\n",
      "File \u001b[1;32mc:\\users\\bigre\\appdata\\local\\programs\\python\\python39\\lib\\site-packages\\torch\\nn\\modules\\module.py:1110\u001b[0m, in \u001b[0;36mModule._call_impl\u001b[1;34m(self, *input, **kwargs)\u001b[0m\n\u001b[0;32m   1106\u001b[0m \u001b[38;5;66;03m# If we don't have any hooks, we want to skip the rest of the logic in\u001b[39;00m\n\u001b[0;32m   1107\u001b[0m \u001b[38;5;66;03m# this function, and just call forward.\u001b[39;00m\n\u001b[0;32m   1108\u001b[0m \u001b[38;5;28;01mif\u001b[39;00m \u001b[38;5;129;01mnot\u001b[39;00m (\u001b[38;5;28mself\u001b[39m\u001b[38;5;241m.\u001b[39m_backward_hooks \u001b[38;5;129;01mor\u001b[39;00m \u001b[38;5;28mself\u001b[39m\u001b[38;5;241m.\u001b[39m_forward_hooks \u001b[38;5;129;01mor\u001b[39;00m \u001b[38;5;28mself\u001b[39m\u001b[38;5;241m.\u001b[39m_forward_pre_hooks \u001b[38;5;129;01mor\u001b[39;00m _global_backward_hooks\n\u001b[0;32m   1109\u001b[0m         \u001b[38;5;129;01mor\u001b[39;00m _global_forward_hooks \u001b[38;5;129;01mor\u001b[39;00m _global_forward_pre_hooks):\n\u001b[1;32m-> 1110\u001b[0m     \u001b[38;5;28;01mreturn\u001b[39;00m forward_call(\u001b[38;5;241m*\u001b[39m\u001b[38;5;28minput\u001b[39m, \u001b[38;5;241m*\u001b[39m\u001b[38;5;241m*\u001b[39mkwargs)\n\u001b[0;32m   1111\u001b[0m \u001b[38;5;66;03m# Do not call functions when jit is used\u001b[39;00m\n\u001b[0;32m   1112\u001b[0m full_backward_hooks, non_full_backward_hooks \u001b[38;5;241m=\u001b[39m [], []\n",
      "File \u001b[1;32mc:\\users\\bigre\\appdata\\local\\programs\\python\\python39\\lib\\site-packages\\torch\\nn\\modules\\linear.py:103\u001b[0m, in \u001b[0;36mLinear.forward\u001b[1;34m(self, input)\u001b[0m\n\u001b[0;32m    102\u001b[0m \u001b[38;5;28;01mdef\u001b[39;00m \u001b[38;5;21mforward\u001b[39m(\u001b[38;5;28mself\u001b[39m, \u001b[38;5;28minput\u001b[39m: Tensor) \u001b[38;5;241m-\u001b[39m\u001b[38;5;241m>\u001b[39m Tensor:\n\u001b[1;32m--> 103\u001b[0m     \u001b[38;5;28;01mreturn\u001b[39;00m \u001b[43mF\u001b[49m\u001b[38;5;241;43m.\u001b[39;49m\u001b[43mlinear\u001b[49m\u001b[43m(\u001b[49m\u001b[38;5;28;43minput\u001b[39;49m\u001b[43m,\u001b[49m\u001b[43m \u001b[49m\u001b[38;5;28;43mself\u001b[39;49m\u001b[38;5;241;43m.\u001b[39;49m\u001b[43mweight\u001b[49m\u001b[43m,\u001b[49m\u001b[43m \u001b[49m\u001b[38;5;28;43mself\u001b[39;49m\u001b[38;5;241;43m.\u001b[39;49m\u001b[43mbias\u001b[49m\u001b[43m)\u001b[49m\n",
      "\u001b[1;31mRuntimeError\u001b[0m: mat1 and mat2 shapes cannot be multiplied (1x8 and 32x16)"
     ]
    }
   ],
   "source": [
    "# self-attention\n",
    "torch.manual_seed(228)\n",
    "B, T, C = 4, 8, 32 # Batch, Time , Channel\n",
    "\n",
    "#single Head self-attention\n",
    "head_size = 16\n",
    "key = nn.Linear(C, head_size, bias=False)\n",
    "query = nn.Linear(C, head_size, bias=False)\n",
    "value = nn.Linear(C, head_size, bias=True)\n",
    "\n",
    "k = key(x)   #(B, T, 16)\n",
    "q = query(x) #(B, T, 16)\n",
    "wei = q @ k.transpose(-2,-1)  # (B, T ,16) @ (B, 16, T) ----> (B, T , T)\n",
    "\n",
    "x = torch.randn(B, T, C)\n",
    "tril = torch.tril(torch.ones(T, T))\n",
    "wei = wei.masked_fill(tril == 0, float('-inf'))\n",
    "wei = F.softmax(wei, dim=1)\n",
    "\n",
    "v = value(x)\n",
    "out = wei @ v \n",
    "#out = wei @ x\n",
    "\n",
    "\n",
    "\n",
    "\n",
    "out.shape"
   ]
  },
  {
   "cell_type": "code",
   "execution_count": null,
   "id": "74623002-8bc4-4b90-a3e4-37aa1f4efa38",
   "metadata": {},
   "outputs": [],
   "source": [
    "tril"
   ]
  },
  {
   "cell_type": "code",
   "execution_count": null,
   "id": "c72922dd-4b19-4a8c-aa23-e6644bd6892d",
   "metadata": {},
   "outputs": [],
   "source": [
    "out"
   ]
  },
  {
   "cell_type": "code",
   "execution_count": null,
   "id": "9c0101f6-4a4c-4383-8f20-fe5b5ab67e6c",
   "metadata": {},
   "outputs": [],
   "source": []
  },
  {
   "cell_type": "code",
   "execution_count": null,
   "id": "4f108b3d-cc80-4e8a-969b-e6e42bd07884",
   "metadata": {},
   "outputs": [],
   "source": []
  }
 ],
 "metadata": {
  "kernelspec": {
   "display_name": "Python 3 (ipykernel)",
   "language": "python",
   "name": "python3"
  },
  "language_info": {
   "codemirror_mode": {
    "name": "ipython",
    "version": 3
   },
   "file_extension": ".py",
   "mimetype": "text/x-python",
   "name": "python",
   "nbconvert_exporter": "python",
   "pygments_lexer": "ipython3",
   "version": "3.9.5"
  }
 },
 "nbformat": 4,
 "nbformat_minor": 5
}
